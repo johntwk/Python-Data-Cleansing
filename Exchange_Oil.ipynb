{
 "cells": [
  {
   "cell_type": "markdown",
   "metadata": {},
   "source": [
    "# Cleaning Data"
   ]
  },
  {
   "cell_type": "code",
   "execution_count": 26,
   "metadata": {
    "collapsed": true
   },
   "outputs": [],
   "source": [
    "import pandas as pd\n",
    "import numpy as np\n",
    "from pandas import *\n",
    "from numpy import *"
   ]
  },
  {
   "cell_type": "markdown",
   "metadata": {},
   "source": [
    "We merge the oil price dataset from the Federal Research Economic Data (oil_price.csv) and the exchange rate data set from the Bank of Canada (LEGACY_NOON_RATES.csv). "
   ]
  },
  {
   "cell_type": "code",
   "execution_count": 27,
   "metadata": {
    "collapsed": false
   },
   "outputs": [],
   "source": [
    "oil_price = pd.read_csv(\"oil_price.csv\")\n",
    "ts_lst = [\"date\",\"IEXE0701\",\"IEXE1201\", \"IEXE0101\", \"EUROCAE01\"]\n",
    "\n",
    "rate = pd.read_csv(\"LEGACY_NOON_RATES.csv\",skiprows=list(range(0,81))+list(range(2692,2814)))[ts_lst]\n",
    "data = pd.merge(oil_price, rate, how='inner', left_on = \"DATE\", right_on=\"date\")\n",
    "rename_dict = {\"DCOILWTICO\": \"Oil_Price\", \n",
    "               \"IEXE0701\": \"CAD_JPY\", \n",
    "               \"IEXE1201\":\"CAD_GBP\", \n",
    "               \"IEXE0101\":\"CAD_USD\", \n",
    "               \"EUROCAE01\":\"CAD_EUR\"}\n",
    "data.rename(index=str, columns=rename_dict, inplace = True)\n",
    "data.drop(\"date\",axis=1, inplace = True)\n",
    "\n",
    "data = data.replace('.', np.nan)\n",
    "data.dropna(axis=0, how='any', inplace = True)\n"
   ]
  },
  {
   "cell_type": "code",
   "execution_count": 28,
   "metadata": {
    "collapsed": false
   },
   "outputs": [
    {
     "data": {
      "text/html": [
       "<div>\n",
       "<style>\n",
       "    .dataframe thead tr:only-child th {\n",
       "        text-align: right;\n",
       "    }\n",
       "\n",
       "    .dataframe thead th {\n",
       "        text-align: left;\n",
       "    }\n",
       "\n",
       "    .dataframe tbody tr th {\n",
       "        vertical-align: top;\n",
       "    }\n",
       "</style>\n",
       "<table border=\"1\" class=\"dataframe\">\n",
       "  <thead>\n",
       "    <tr style=\"text-align: right;\">\n",
       "      <th></th>\n",
       "      <th>DATE</th>\n",
       "      <th>Oil_Price</th>\n",
       "      <th>CAD_JPY</th>\n",
       "      <th>CAD_GBP</th>\n",
       "      <th>CAD_USD</th>\n",
       "      <th>CAD_EUR</th>\n",
       "    </tr>\n",
       "  </thead>\n",
       "  <tbody>\n",
       "    <tr>\n",
       "      <th>0</th>\n",
       "      <td>2007-05-01</td>\n",
       "      <td>64.43</td>\n",
       "      <td>0.009257</td>\n",
       "      <td>2.2171</td>\n",
       "      <td>1.1089</td>\n",
       "      <td>1.5081</td>\n",
       "    </tr>\n",
       "    <tr>\n",
       "      <th>1</th>\n",
       "      <td>2007-05-02</td>\n",
       "      <td>63.78</td>\n",
       "      <td>0.009235</td>\n",
       "      <td>2.2073</td>\n",
       "      <td>1.1087</td>\n",
       "      <td>1.5074</td>\n",
       "    </tr>\n",
       "    <tr>\n",
       "      <th>2</th>\n",
       "      <td>2007-05-03</td>\n",
       "      <td>63.23</td>\n",
       "      <td>0.009199</td>\n",
       "      <td>2.2005</td>\n",
       "      <td>1.1070</td>\n",
       "      <td>1.5017</td>\n",
       "    </tr>\n",
       "    <tr>\n",
       "      <th>3</th>\n",
       "      <td>2007-05-04</td>\n",
       "      <td>61.89</td>\n",
       "      <td>0.009211</td>\n",
       "      <td>2.2062</td>\n",
       "      <td>1.1069</td>\n",
       "      <td>1.5040</td>\n",
       "    </tr>\n",
       "    <tr>\n",
       "      <th>4</th>\n",
       "      <td>2007-05-07</td>\n",
       "      <td>61.48</td>\n",
       "      <td>0.009189</td>\n",
       "      <td>2.1986</td>\n",
       "      <td>1.1024</td>\n",
       "      <td>1.5010</td>\n",
       "    </tr>\n",
       "  </tbody>\n",
       "</table>\n",
       "</div>"
      ],
      "text/plain": [
       "         DATE Oil_Price   CAD_JPY  CAD_GBP  CAD_USD  CAD_EUR\n",
       "0  2007-05-01     64.43  0.009257   2.2171   1.1089   1.5081\n",
       "1  2007-05-02     63.78  0.009235   2.2073   1.1087   1.5074\n",
       "2  2007-05-03     63.23  0.009199   2.2005   1.1070   1.5017\n",
       "3  2007-05-04     61.89  0.009211   2.2062   1.1069   1.5040\n",
       "4  2007-05-07     61.48  0.009189   2.1986   1.1024   1.5010"
      ]
     },
     "execution_count": 28,
     "metadata": {},
     "output_type": "execute_result"
    }
   ],
   "source": [
    "data.head()"
   ]
  },
  {
   "cell_type": "markdown",
   "metadata": {},
   "source": [
    "## Remove any row with Missing Data"
   ]
  },
  {
   "cell_type": "markdown",
   "metadata": {},
   "source": [
    "There are various ways to handling missing data. For example, we can pad missing values with their previous values, assign an unique value or remove the row."
   ]
  },
  {
   "cell_type": "markdown",
   "metadata": {},
   "source": [
    "In our case, every missing entry corresponds to holidays when markets are closed. Therefore, we choose to remove these rows."
   ]
  },
  {
   "cell_type": "code",
   "execution_count": 29,
   "metadata": {
    "collapsed": true
   },
   "outputs": [],
   "source": [
    "data = data.replace('.', np.nan)\n",
    "data.dropna(axis=0, how='any', inplace = True)"
   ]
  },
  {
   "cell_type": "markdown",
   "metadata": {},
   "source": [
    "## Generate Lagged Variables"
   ]
  },
  {
   "cell_type": "markdown",
   "metadata": {},
   "source": [
    "When we forecast a daily noon exchange rate, we do not know other daily noon exchange rates and other daily oil prices. The latest piece of information available is yesterday's noon exchange rates. Therefore, we generate several lagged variables for prediction."
   ]
  },
  {
   "cell_type": "markdown",
   "metadata": {},
   "source": [
    "The number of lags means how many days of information from the past we use to forecast today's exchange rate.  "
   ]
  },
  {
   "cell_type": "code",
   "execution_count": 30,
   "metadata": {
    "collapsed": true
   },
   "outputs": [],
   "source": [
    "var_lst = data.columns.tolist()\n",
    "num_lags = 7\n",
    "for var in var_lst[1:]:\n",
    "    for lag in range(1,num_lags + 1):\n",
    "        col_name = \"L\"+str(lag)+\".\"+str(var)\n",
    "        data[col_name] = data[var].shift(-lag)"
   ]
  },
  {
   "cell_type": "markdown",
   "metadata": {},
   "source": [
    "Generating lagged variables produces missing values. Similar to the above, we remove rows with missing values."
   ]
  },
  {
   "cell_type": "code",
   "execution_count": 31,
   "metadata": {
    "collapsed": true
   },
   "outputs": [],
   "source": [
    "data.dropna(axis=0, how='any', inplace = True)"
   ]
  },
  {
   "cell_type": "code",
   "execution_count": 32,
   "metadata": {
    "collapsed": false
   },
   "outputs": [
    {
     "data": {
      "text/html": [
       "<div>\n",
       "<style>\n",
       "    .dataframe thead tr:only-child th {\n",
       "        text-align: right;\n",
       "    }\n",
       "\n",
       "    .dataframe thead th {\n",
       "        text-align: left;\n",
       "    }\n",
       "\n",
       "    .dataframe tbody tr th {\n",
       "        vertical-align: top;\n",
       "    }\n",
       "</style>\n",
       "<table border=\"1\" class=\"dataframe\">\n",
       "  <thead>\n",
       "    <tr style=\"text-align: right;\">\n",
       "      <th></th>\n",
       "      <th>DATE</th>\n",
       "      <th>Oil_Price</th>\n",
       "      <th>CAD_JPY</th>\n",
       "      <th>CAD_GBP</th>\n",
       "      <th>CAD_USD</th>\n",
       "      <th>CAD_EUR</th>\n",
       "      <th>L1.Oil_Price</th>\n",
       "      <th>L2.Oil_Price</th>\n",
       "      <th>L3.Oil_Price</th>\n",
       "      <th>L4.Oil_Price</th>\n",
       "      <th>...</th>\n",
       "      <th>L5.CAD_USD</th>\n",
       "      <th>L6.CAD_USD</th>\n",
       "      <th>L7.CAD_USD</th>\n",
       "      <th>L1.CAD_EUR</th>\n",
       "      <th>L2.CAD_EUR</th>\n",
       "      <th>L3.CAD_EUR</th>\n",
       "      <th>L4.CAD_EUR</th>\n",
       "      <th>L5.CAD_EUR</th>\n",
       "      <th>L6.CAD_EUR</th>\n",
       "      <th>L7.CAD_EUR</th>\n",
       "    </tr>\n",
       "  </thead>\n",
       "  <tbody>\n",
       "    <tr>\n",
       "      <th>0</th>\n",
       "      <td>2007-05-01</td>\n",
       "      <td>64.43</td>\n",
       "      <td>0.009257</td>\n",
       "      <td>2.2171</td>\n",
       "      <td>1.1089</td>\n",
       "      <td>1.5081</td>\n",
       "      <td>63.78</td>\n",
       "      <td>63.23</td>\n",
       "      <td>61.89</td>\n",
       "      <td>61.48</td>\n",
       "      <td>...</td>\n",
       "      <td>1.1048</td>\n",
       "      <td>1.1064</td>\n",
       "      <td>1.1073</td>\n",
       "      <td>1.5074</td>\n",
       "      <td>1.5017</td>\n",
       "      <td>1.5040</td>\n",
       "      <td>1.5010</td>\n",
       "      <td>1.4950</td>\n",
       "      <td>1.4991</td>\n",
       "      <td>1.4962</td>\n",
       "    </tr>\n",
       "    <tr>\n",
       "      <th>1</th>\n",
       "      <td>2007-05-02</td>\n",
       "      <td>63.78</td>\n",
       "      <td>0.009235</td>\n",
       "      <td>2.2073</td>\n",
       "      <td>1.1087</td>\n",
       "      <td>1.5074</td>\n",
       "      <td>63.23</td>\n",
       "      <td>61.89</td>\n",
       "      <td>61.48</td>\n",
       "      <td>62.26</td>\n",
       "      <td>...</td>\n",
       "      <td>1.1064</td>\n",
       "      <td>1.1073</td>\n",
       "      <td>1.1135</td>\n",
       "      <td>1.5017</td>\n",
       "      <td>1.5040</td>\n",
       "      <td>1.5010</td>\n",
       "      <td>1.4950</td>\n",
       "      <td>1.4991</td>\n",
       "      <td>1.4962</td>\n",
       "      <td>1.5053</td>\n",
       "    </tr>\n",
       "    <tr>\n",
       "      <th>2</th>\n",
       "      <td>2007-05-03</td>\n",
       "      <td>63.23</td>\n",
       "      <td>0.009199</td>\n",
       "      <td>2.2005</td>\n",
       "      <td>1.1070</td>\n",
       "      <td>1.5017</td>\n",
       "      <td>61.89</td>\n",
       "      <td>61.48</td>\n",
       "      <td>62.26</td>\n",
       "      <td>61.54</td>\n",
       "      <td>...</td>\n",
       "      <td>1.1073</td>\n",
       "      <td>1.1135</td>\n",
       "      <td>1.1069</td>\n",
       "      <td>1.5040</td>\n",
       "      <td>1.5010</td>\n",
       "      <td>1.4950</td>\n",
       "      <td>1.4991</td>\n",
       "      <td>1.4962</td>\n",
       "      <td>1.5053</td>\n",
       "      <td>1.4991</td>\n",
       "    </tr>\n",
       "    <tr>\n",
       "      <th>3</th>\n",
       "      <td>2007-05-04</td>\n",
       "      <td>61.89</td>\n",
       "      <td>0.009211</td>\n",
       "      <td>2.2062</td>\n",
       "      <td>1.1069</td>\n",
       "      <td>1.5040</td>\n",
       "      <td>61.48</td>\n",
       "      <td>62.26</td>\n",
       "      <td>61.54</td>\n",
       "      <td>61.85</td>\n",
       "      <td>...</td>\n",
       "      <td>1.1135</td>\n",
       "      <td>1.1069</td>\n",
       "      <td>1.0977</td>\n",
       "      <td>1.5010</td>\n",
       "      <td>1.4950</td>\n",
       "      <td>1.4991</td>\n",
       "      <td>1.4962</td>\n",
       "      <td>1.5053</td>\n",
       "      <td>1.4991</td>\n",
       "      <td>1.4932</td>\n",
       "    </tr>\n",
       "    <tr>\n",
       "      <th>4</th>\n",
       "      <td>2007-05-07</td>\n",
       "      <td>61.48</td>\n",
       "      <td>0.009189</td>\n",
       "      <td>2.1986</td>\n",
       "      <td>1.1024</td>\n",
       "      <td>1.5010</td>\n",
       "      <td>62.26</td>\n",
       "      <td>61.54</td>\n",
       "      <td>61.85</td>\n",
       "      <td>62.35</td>\n",
       "      <td>...</td>\n",
       "      <td>1.1069</td>\n",
       "      <td>1.0977</td>\n",
       "      <td>1.1029</td>\n",
       "      <td>1.4950</td>\n",
       "      <td>1.4991</td>\n",
       "      <td>1.4962</td>\n",
       "      <td>1.5053</td>\n",
       "      <td>1.4991</td>\n",
       "      <td>1.4932</td>\n",
       "      <td>1.4912</td>\n",
       "    </tr>\n",
       "  </tbody>\n",
       "</table>\n",
       "<p>5 rows × 41 columns</p>\n",
       "</div>"
      ],
      "text/plain": [
       "         DATE Oil_Price   CAD_JPY  CAD_GBP  CAD_USD  CAD_EUR L1.Oil_Price  \\\n",
       "0  2007-05-01     64.43  0.009257   2.2171   1.1089   1.5081        63.78   \n",
       "1  2007-05-02     63.78  0.009235   2.2073   1.1087   1.5074        63.23   \n",
       "2  2007-05-03     63.23  0.009199   2.2005   1.1070   1.5017        61.89   \n",
       "3  2007-05-04     61.89  0.009211   2.2062   1.1069   1.5040        61.48   \n",
       "4  2007-05-07     61.48  0.009189   2.1986   1.1024   1.5010        62.26   \n",
       "\n",
       "  L2.Oil_Price L3.Oil_Price L4.Oil_Price     ...     L5.CAD_USD L6.CAD_USD  \\\n",
       "0        63.23        61.89        61.48     ...         1.1048     1.1064   \n",
       "1        61.89        61.48        62.26     ...         1.1064     1.1073   \n",
       "2        61.48        62.26        61.54     ...         1.1073     1.1135   \n",
       "3        62.26        61.54        61.85     ...         1.1135     1.1069   \n",
       "4        61.54        61.85        62.35     ...         1.1069     1.0977   \n",
       "\n",
       "  L7.CAD_USD  L1.CAD_EUR  L2.CAD_EUR  L3.CAD_EUR  L4.CAD_EUR  L5.CAD_EUR  \\\n",
       "0     1.1073      1.5074      1.5017      1.5040      1.5010      1.4950   \n",
       "1     1.1135      1.5017      1.5040      1.5010      1.4950      1.4991   \n",
       "2     1.1069      1.5040      1.5010      1.4950      1.4991      1.4962   \n",
       "3     1.0977      1.5010      1.4950      1.4991      1.4962      1.5053   \n",
       "4     1.1029      1.4950      1.4991      1.4962      1.5053      1.4991   \n",
       "\n",
       "   L6.CAD_EUR  L7.CAD_EUR  \n",
       "0      1.4991      1.4962  \n",
       "1      1.4962      1.5053  \n",
       "2      1.5053      1.4991  \n",
       "3      1.4991      1.4932  \n",
       "4      1.4932      1.4912  \n",
       "\n",
       "[5 rows x 41 columns]"
      ]
     },
     "execution_count": 32,
     "metadata": {},
     "output_type": "execute_result"
    }
   ],
   "source": [
    "data.head()"
   ]
  },
  {
   "cell_type": "markdown",
   "metadata": {},
   "source": [
    "## Make Date a Timestamp"
   ]
  },
  {
   "cell_type": "code",
   "execution_count": 33,
   "metadata": {
    "collapsed": false
   },
   "outputs": [
    {
     "data": {
      "text/plain": [
       "str"
      ]
     },
     "execution_count": 33,
     "metadata": {},
     "output_type": "execute_result"
    }
   ],
   "source": [
    "type(data[\"DATE\"][0])"
   ]
  },
  {
   "cell_type": "code",
   "execution_count": 34,
   "metadata": {
    "collapsed": true
   },
   "outputs": [],
   "source": [
    "data[\"DATE\"] = data[\"DATE\"].map(lambda x: datetime.strptime(x, \"%Y-%m-%d\"))"
   ]
  },
  {
   "cell_type": "code",
   "execution_count": 35,
   "metadata": {
    "collapsed": false
   },
   "outputs": [
    {
     "data": {
      "text/plain": [
       "pandas._libs.tslib.Timestamp"
      ]
     },
     "execution_count": 35,
     "metadata": {},
     "output_type": "execute_result"
    }
   ],
   "source": [
    "type(data[\"DATE\"][0])"
   ]
  },
  {
   "cell_type": "markdown",
   "metadata": {},
   "source": [
    "## Set DATE as the index"
   ]
  },
  {
   "cell_type": "code",
   "execution_count": 36,
   "metadata": {
    "collapsed": true
   },
   "outputs": [],
   "source": [
    "data.set_index(\"DATE\", inplace = True)"
   ]
  },
  {
   "cell_type": "markdown",
   "metadata": {},
   "source": [
    "## Convert Every Cell from String to Float"
   ]
  },
  {
   "cell_type": "code",
   "execution_count": 37,
   "metadata": {
    "collapsed": true
   },
   "outputs": [],
   "source": [
    "var_lst = data.columns.tolist()\n",
    "for var in var_lst:\n",
    "    data[var] = data[var].astype(float)"
   ]
  },
  {
   "cell_type": "code",
   "execution_count": 38,
   "metadata": {
    "collapsed": false
   },
   "outputs": [
    {
     "data": {
      "text/html": [
       "<div>\n",
       "<style>\n",
       "    .dataframe thead tr:only-child th {\n",
       "        text-align: right;\n",
       "    }\n",
       "\n",
       "    .dataframe thead th {\n",
       "        text-align: left;\n",
       "    }\n",
       "\n",
       "    .dataframe tbody tr th {\n",
       "        vertical-align: top;\n",
       "    }\n",
       "</style>\n",
       "<table border=\"1\" class=\"dataframe\">\n",
       "  <thead>\n",
       "    <tr style=\"text-align: right;\">\n",
       "      <th></th>\n",
       "      <th>Oil_Price</th>\n",
       "      <th>CAD_JPY</th>\n",
       "      <th>CAD_GBP</th>\n",
       "      <th>CAD_USD</th>\n",
       "      <th>CAD_EUR</th>\n",
       "      <th>L1.Oil_Price</th>\n",
       "      <th>L2.Oil_Price</th>\n",
       "      <th>L3.Oil_Price</th>\n",
       "      <th>L4.Oil_Price</th>\n",
       "      <th>L5.Oil_Price</th>\n",
       "      <th>...</th>\n",
       "      <th>L5.CAD_USD</th>\n",
       "      <th>L6.CAD_USD</th>\n",
       "      <th>L7.CAD_USD</th>\n",
       "      <th>L1.CAD_EUR</th>\n",
       "      <th>L2.CAD_EUR</th>\n",
       "      <th>L3.CAD_EUR</th>\n",
       "      <th>L4.CAD_EUR</th>\n",
       "      <th>L5.CAD_EUR</th>\n",
       "      <th>L6.CAD_EUR</th>\n",
       "      <th>L7.CAD_EUR</th>\n",
       "    </tr>\n",
       "    <tr>\n",
       "      <th>DATE</th>\n",
       "      <th></th>\n",
       "      <th></th>\n",
       "      <th></th>\n",
       "      <th></th>\n",
       "      <th></th>\n",
       "      <th></th>\n",
       "      <th></th>\n",
       "      <th></th>\n",
       "      <th></th>\n",
       "      <th></th>\n",
       "      <th></th>\n",
       "      <th></th>\n",
       "      <th></th>\n",
       "      <th></th>\n",
       "      <th></th>\n",
       "      <th></th>\n",
       "      <th></th>\n",
       "      <th></th>\n",
       "      <th></th>\n",
       "      <th></th>\n",
       "      <th></th>\n",
       "    </tr>\n",
       "  </thead>\n",
       "  <tbody>\n",
       "    <tr>\n",
       "      <th>2007-05-01</th>\n",
       "      <td>64.43</td>\n",
       "      <td>0.009257</td>\n",
       "      <td>2.2171</td>\n",
       "      <td>1.1089</td>\n",
       "      <td>1.5081</td>\n",
       "      <td>63.78</td>\n",
       "      <td>63.23</td>\n",
       "      <td>61.89</td>\n",
       "      <td>61.48</td>\n",
       "      <td>62.26</td>\n",
       "      <td>...</td>\n",
       "      <td>1.1048</td>\n",
       "      <td>1.1064</td>\n",
       "      <td>1.1073</td>\n",
       "      <td>1.5074</td>\n",
       "      <td>1.5017</td>\n",
       "      <td>1.5040</td>\n",
       "      <td>1.5010</td>\n",
       "      <td>1.4950</td>\n",
       "      <td>1.4991</td>\n",
       "      <td>1.4962</td>\n",
       "    </tr>\n",
       "    <tr>\n",
       "      <th>2007-05-02</th>\n",
       "      <td>63.78</td>\n",
       "      <td>0.009235</td>\n",
       "      <td>2.2073</td>\n",
       "      <td>1.1087</td>\n",
       "      <td>1.5074</td>\n",
       "      <td>63.23</td>\n",
       "      <td>61.89</td>\n",
       "      <td>61.48</td>\n",
       "      <td>62.26</td>\n",
       "      <td>61.54</td>\n",
       "      <td>...</td>\n",
       "      <td>1.1064</td>\n",
       "      <td>1.1073</td>\n",
       "      <td>1.1135</td>\n",
       "      <td>1.5017</td>\n",
       "      <td>1.5040</td>\n",
       "      <td>1.5010</td>\n",
       "      <td>1.4950</td>\n",
       "      <td>1.4991</td>\n",
       "      <td>1.4962</td>\n",
       "      <td>1.5053</td>\n",
       "    </tr>\n",
       "    <tr>\n",
       "      <th>2007-05-03</th>\n",
       "      <td>63.23</td>\n",
       "      <td>0.009199</td>\n",
       "      <td>2.2005</td>\n",
       "      <td>1.1070</td>\n",
       "      <td>1.5017</td>\n",
       "      <td>61.89</td>\n",
       "      <td>61.48</td>\n",
       "      <td>62.26</td>\n",
       "      <td>61.54</td>\n",
       "      <td>61.85</td>\n",
       "      <td>...</td>\n",
       "      <td>1.1073</td>\n",
       "      <td>1.1135</td>\n",
       "      <td>1.1069</td>\n",
       "      <td>1.5040</td>\n",
       "      <td>1.5010</td>\n",
       "      <td>1.4950</td>\n",
       "      <td>1.4991</td>\n",
       "      <td>1.4962</td>\n",
       "      <td>1.5053</td>\n",
       "      <td>1.4991</td>\n",
       "    </tr>\n",
       "    <tr>\n",
       "      <th>2007-05-04</th>\n",
       "      <td>61.89</td>\n",
       "      <td>0.009211</td>\n",
       "      <td>2.2062</td>\n",
       "      <td>1.1069</td>\n",
       "      <td>1.5040</td>\n",
       "      <td>61.48</td>\n",
       "      <td>62.26</td>\n",
       "      <td>61.54</td>\n",
       "      <td>61.85</td>\n",
       "      <td>62.35</td>\n",
       "      <td>...</td>\n",
       "      <td>1.1135</td>\n",
       "      <td>1.1069</td>\n",
       "      <td>1.0977</td>\n",
       "      <td>1.5010</td>\n",
       "      <td>1.4950</td>\n",
       "      <td>1.4991</td>\n",
       "      <td>1.4962</td>\n",
       "      <td>1.5053</td>\n",
       "      <td>1.4991</td>\n",
       "      <td>1.4932</td>\n",
       "    </tr>\n",
       "    <tr>\n",
       "      <th>2007-05-07</th>\n",
       "      <td>61.48</td>\n",
       "      <td>0.009189</td>\n",
       "      <td>2.1986</td>\n",
       "      <td>1.1024</td>\n",
       "      <td>1.5010</td>\n",
       "      <td>62.26</td>\n",
       "      <td>61.54</td>\n",
       "      <td>61.85</td>\n",
       "      <td>62.35</td>\n",
       "      <td>62.55</td>\n",
       "      <td>...</td>\n",
       "      <td>1.1069</td>\n",
       "      <td>1.0977</td>\n",
       "      <td>1.1029</td>\n",
       "      <td>1.4950</td>\n",
       "      <td>1.4991</td>\n",
       "      <td>1.4962</td>\n",
       "      <td>1.5053</td>\n",
       "      <td>1.4991</td>\n",
       "      <td>1.4932</td>\n",
       "      <td>1.4912</td>\n",
       "    </tr>\n",
       "  </tbody>\n",
       "</table>\n",
       "<p>5 rows × 40 columns</p>\n",
       "</div>"
      ],
      "text/plain": [
       "            Oil_Price   CAD_JPY  CAD_GBP  CAD_USD  CAD_EUR  L1.Oil_Price  \\\n",
       "DATE                                                                       \n",
       "2007-05-01      64.43  0.009257   2.2171   1.1089   1.5081         63.78   \n",
       "2007-05-02      63.78  0.009235   2.2073   1.1087   1.5074         63.23   \n",
       "2007-05-03      63.23  0.009199   2.2005   1.1070   1.5017         61.89   \n",
       "2007-05-04      61.89  0.009211   2.2062   1.1069   1.5040         61.48   \n",
       "2007-05-07      61.48  0.009189   2.1986   1.1024   1.5010         62.26   \n",
       "\n",
       "            L2.Oil_Price  L3.Oil_Price  L4.Oil_Price  L5.Oil_Price  \\\n",
       "DATE                                                                 \n",
       "2007-05-01         63.23         61.89         61.48         62.26   \n",
       "2007-05-02         61.89         61.48         62.26         61.54   \n",
       "2007-05-03         61.48         62.26         61.54         61.85   \n",
       "2007-05-04         62.26         61.54         61.85         62.35   \n",
       "2007-05-07         61.54         61.85         62.35         62.55   \n",
       "\n",
       "               ...      L5.CAD_USD  L6.CAD_USD  L7.CAD_USD  L1.CAD_EUR  \\\n",
       "DATE           ...                                                       \n",
       "2007-05-01     ...          1.1048      1.1064      1.1073      1.5074   \n",
       "2007-05-02     ...          1.1064      1.1073      1.1135      1.5017   \n",
       "2007-05-03     ...          1.1073      1.1135      1.1069      1.5040   \n",
       "2007-05-04     ...          1.1135      1.1069      1.0977      1.5010   \n",
       "2007-05-07     ...          1.1069      1.0977      1.1029      1.4950   \n",
       "\n",
       "            L2.CAD_EUR  L3.CAD_EUR  L4.CAD_EUR  L5.CAD_EUR  L6.CAD_EUR  \\\n",
       "DATE                                                                     \n",
       "2007-05-01      1.5017      1.5040      1.5010      1.4950      1.4991   \n",
       "2007-05-02      1.5040      1.5010      1.4950      1.4991      1.4962   \n",
       "2007-05-03      1.5010      1.4950      1.4991      1.4962      1.5053   \n",
       "2007-05-04      1.4950      1.4991      1.4962      1.5053      1.4991   \n",
       "2007-05-07      1.4991      1.4962      1.5053      1.4991      1.4932   \n",
       "\n",
       "            L7.CAD_EUR  \n",
       "DATE                    \n",
       "2007-05-01      1.4962  \n",
       "2007-05-02      1.5053  \n",
       "2007-05-03      1.4991  \n",
       "2007-05-04      1.4932  \n",
       "2007-05-07      1.4912  \n",
       "\n",
       "[5 rows x 40 columns]"
      ]
     },
     "execution_count": 38,
     "metadata": {},
     "output_type": "execute_result"
    }
   ],
   "source": [
    "data.head()"
   ]
  }
 ],
 "metadata": {
  "kernelspec": {
   "display_name": "Python 2",
   "language": "python",
   "name": "python2"
  },
  "language_info": {
   "codemirror_mode": {
    "name": "ipython",
    "version": 2
   },
   "file_extension": ".py",
   "mimetype": "text/x-python",
   "name": "python",
   "nbconvert_exporter": "python",
   "pygments_lexer": "ipython2",
   "version": "2.7.13"
  }
 },
 "nbformat": 4,
 "nbformat_minor": 0
}
